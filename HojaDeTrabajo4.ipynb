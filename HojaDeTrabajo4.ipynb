{
  "cells": [
    {
      "attachments": {},
      "cell_type": "markdown",
      "metadata": {
        "id": "A0sGUIXntSsg"
      },
      "source": [
        "# Regresión lineal polinómica\n",
        "Oscar Oswaldo Estrada Morales<br>\n",
        "Inteligencia Artificial<br>\n",
        "Ingeniería Bioinformática"
      ]
    },
    {
      "cell_type": "code",
      "execution_count": 184,
      "metadata": {
        "id": "p4UPmIZPtOyC"
      },
      "outputs": [],
      "source": [
        "#Librerias\n",
        "import numpy as np\n",
        "import matplotlib.pyplot as plt\n",
        "import pandas as pd\n",
        "import os"
      ]
    },
    {
      "cell_type": "markdown",
      "metadata": {
        "id": "yKs1TqhvACg1"
      },
      "source": [
        "### Task 1.1"
      ]
    },
    {
      "cell_type": "code",
      "execution_count": 185,
      "metadata": {
        "id": "X1EvtdIXuLs5"
      },
      "outputs": [],
      "source": [
        "#Carga del archivo\n",
        "data = np.genfromtxt(\"/content/kc_house_data.csv\", delimiter=\",\", skip_header=1, dtype=float)\n",
        "\n",
        "#Seteo de variables \n",
        "y = data[:, 2] #Price\n",
        "x = data[:, 5] #sqft_living"
      ]
    },
    {
      "cell_type": "markdown",
      "metadata": {
        "id": "_KKSfVKSAPEC"
      },
      "source": [
        "### Task 1.2"
      ]
    },
    {
      "cell_type": "code",
      "execution_count": 186,
      "metadata": {
        "id": "RvDiAcYBrUPy"
      },
      "outputs": [],
      "source": [
        "DATASET_SET_SIZE = x.shape[0]\n",
        "DATASET_X_LIM = np.max(x)"
      ]
    },
    {
      "cell_type": "code",
      "execution_count": 187,
      "metadata": {
        "id": "LOeIoYwfuz-U"
      },
      "outputs": [],
      "source": [
        "#Creacion de funciones de costo y gradiente\n",
        "cost = lambda X, y, t: ((X @ t - y) ** 2).sum() / len(y)\n",
        "grad = lambda X, y, t: 2 * X.T @ (X @ t - y) / len(y)"
      ]
    },
    {
      "cell_type": "code",
      "execution_count": 188,
      "metadata": {
        "id": "HpWaBLBBrPkZ"
      },
      "outputs": [],
      "source": [
        "#Creamos nuestra funcion de regresion lineal \n",
        "def linreg(X, y, t, cost,  grad, a=0.1, n = 100):\n",
        "    costs = []\n",
        "    for i in range(n):\n",
        "        t -= a * grad(X,y,t)\n",
        "        costs.append(cost(X,y,t))\n",
        "    \n",
        "    return t, costs"
      ]
    },
    {
      "cell_type": "code",
      "execution_count": 189,
      "metadata": {
        "id": "WtCEipxRrZ5z"
      },
      "outputs": [],
      "source": [
        "#Ajustamos los shapes de los arrays y los stackeamos a np.ones\n",
        "X = x.reshape(DATASET_SET_SIZE, 1)\n",
        "Xr = np.hstack((\n",
        "    np.ones((DATASET_SET_SIZE, 1)),\n",
        "    X)\n",
        ")\n",
        "y = y.reshape(DATASET_SET_SIZE, 1)"
      ]
    },
    {
      "cell_type": "markdown",
      "metadata": {
        "id": "f8BSv0L_A-2K"
      },
      "source": [
        "### Task 1.3"
      ]
    },
    {
      "cell_type": "code",
      "execution_count": 190,
      "metadata": {
        "colab": {
          "base_uri": "https://localhost:8080/"
        },
        "id": "pnCwxdq9tTNP",
        "outputId": "dde3a696-d44e-4176-b22b-74d7780ecf58"
      },
      "outputs": [
        {
          "name": "stdout",
          "output_type": "stream",
          "text": [
            "TF (Theta resultante):  [[-13.95192593]\n",
            " [263.09480234]]\n"
          ]
        }
      ],
      "source": [
        "#Ejecutamos el modelo \n",
        "to = np.random.rand(Xr.shape[1], 1)\n",
        "\n",
        "tf, costs = linreg(Xr, y, to, cost, grad, a = 0.0000001, n =10000)\n",
        "print(\"TF (Theta resultante): \", tf)"
      ]
    },
    {
      "cell_type": "code",
      "execution_count": 191,
      "metadata": {
        "id": "-VqhHe9yati4"
      },
      "outputs": [],
      "source": [
        "#Linea de tendencia\n",
        "xm = np.array([[0], [DATASET_X_LIM]])\n",
        "xmr = np.hstack((\n",
        "    np.ones((2, 1)),\n",
        "    xm)\n",
        ")\n",
        "ym = (xmr @ tf)"
      ]
    },
    {
      "cell_type": "code",
      "execution_count": 192,
      "metadata": {
        "colab": {
          "base_uri": "https://localhost:8080/",
          "height": 338
        },
        "id": "8PqTpe0uzhgq",
        "outputId": "1832ca0c-02c8-4284-b710-9186aed77594"
      },
      "outputs": [
        {
          "name": "stderr",
          "output_type": "stream",
          "text": [
            "<ipython-input-192-9f0f78a463a8>:2: UserWarning: color is redundantly defined by the 'color' keyword argument and the fmt string \"ro\" (-> color='r'). The keyword argument will take precedence.\n",
            "  plt.plot(X, y, \"ro\", color = \"pink\")\n"
          ]
        },
        {
          "data": {
            "image/png": "[encoded data removed]",
            "text/plain": [
              "<Figure size 864x288 with 1 Axes>"
            ]
          },
          "metadata": {
            "needs_background": "light"
          },
          "output_type": "display_data"
        }
      ],
      "source": [
        "#Graficamos\n",
        "plt.plot(X, y, \"ro\", color = \"pink\")\n",
        "plt.plot(xm, ym, color = \"blue\")\n",
        "plt.title('Implementacion descenso del gradiente')\n",
        "plt.show()"
      ]
    },
    {
      "cell_type": "code",
      "execution_count": 193,
      "metadata": {
        "colab": {
          "base_uri": "https://localhost:8080/",
          "height": 281
        },
        "id": "xIlWs5FG2Twj",
        "outputId": "ee3ae2df-fe27-4d40-e28a-4cc0085078ee"
      },
      "outputs": [
        {
          "data": {
            "image/png": "[encoded data removed]",
            "text/plain": [
              "<Figure size 864x288 with 2 Axes>"
            ]
          },
          "metadata": {
            "needs_background": "light"
          },
          "output_type": "display_data"
        }
      ],
      "source": [
        "#Grafica de costos y acercamiento para ubicar el codo de iteraciones\n",
        "plt.subplot(1, 2, 1)\n",
        "plt.rcParams['figure.figsize'] = [12, 4]\n",
        "plt.plot(np.arange(1000), costs[:1000])\n",
        "plt.title('Costos 1000 iteraciones')\n",
        "\n",
        "plt.subplot(1, 2, 2)\n",
        "plt.rcParams['figure.figsize'] = [12, 4]\n",
        "plt.plot(np.arange(5), costs[:5])\n",
        "plt.title('Acercamiento a codo de costos')\n",
        "\n",
        "\n",
        "plt.show()"
      ]
    },
    {
      "cell_type": "markdown",
      "metadata": {
        "id": "30I7wL2MB7o8"
      },
      "source": [
        "### Task 1.4"
      ]
    },
    {
      "cell_type": "markdown",
      "metadata": {
        "id": "8I4WTnSLB9bY"
      },
      "source": [
        "### Task 1.5"
      ]
    },
    {
      "cell_type": "markdown",
      "metadata": {
        "id": "nOp-Bl6pCDQH"
      },
      "source": [
        "Tras haber realizado la implementación vectorial del algoritmo de regresión lineal, podemos ver que la gráfica si muestra "
      ]
    }
  ],
  "metadata": {
    "colab": {
      "provenance": []
    },
    "kernelspec": {
      "display_name": "Python 3",
      "name": "python3"
    },
    "language_info": {
      "name": "python"
    }
  },
  "nbformat": 4,
  "nbformat_minor": 0
}
